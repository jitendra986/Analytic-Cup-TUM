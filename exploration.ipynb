{
 "cells": [
  {
   "cell_type": "code",
   "execution_count": 3,
   "metadata": {},
   "outputs": [
    {
     "name": "stdout",
     "output_type": "stream",
     "text": [
      "Requirement already satisfied: sweetviz in c:\\python310\\lib\\site-packages (2.3.1)\n",
      "Requirement already satisfied: scipy>=1.3.2 in c:\\python310\\lib\\site-packages (from sweetviz) (1.10.0)\n",
      "Requirement already satisfied: pandas!=1.0.0,!=1.0.1,!=1.0.2,>=0.25.3 in c:\\python310\\lib\\site-packages (from sweetviz) (1.5.2)\n",
      "Requirement already satisfied: matplotlib>=3.1.3 in c:\\python310\\lib\\site-packages (from sweetviz) (3.6.2)\n",
      "Requirement already satisfied: jinja2>=2.11.1 in c:\\python310\\lib\\site-packages (from sweetviz) (3.1.1)\n",
      "Requirement already satisfied: tqdm>=4.43.0 in c:\\python310\\lib\\site-packages (from sweetviz) (4.63.1)\n",
      "Requirement already satisfied: numpy>=1.16.0 in c:\\python310\\lib\\site-packages (from sweetviz) (1.24.2)\n",
      "Requirement already satisfied: importlib-resources>=1.2.0 in c:\\python310\\lib\\site-packages (from sweetviz) (6.1.1)\n",
      "Requirement already satisfied: MarkupSafe>=2.0 in c:\\python310\\lib\\site-packages (from jinja2>=2.11.1->sweetviz) (2.1.1)\n",
      "Requirement already satisfied: pillow>=6.2.0 in c:\\python310\\lib\\site-packages (from matplotlib>=3.1.3->sweetviz) (9.2.0)\n",
      "Requirement already satisfied: python-dateutil>=2.7 in c:\\python310\\lib\\site-packages (from matplotlib>=3.1.3->sweetviz) (2.8.2)\n",
      "Requirement already satisfied: pyparsing>=2.2.1 in c:\\python310\\lib\\site-packages (from matplotlib>=3.1.3->sweetviz) (3.0.9)\n",
      "Requirement already satisfied: fonttools>=4.22.0 in c:\\python310\\lib\\site-packages (from matplotlib>=3.1.3->sweetviz) (4.31.2)\n",
      "Requirement already satisfied: contourpy>=1.0.1 in c:\\python310\\lib\\site-packages (from matplotlib>=3.1.3->sweetviz) (1.0.6)\n",
      "Requirement already satisfied: kiwisolver>=1.0.1 in c:\\python310\\lib\\site-packages (from matplotlib>=3.1.3->sweetviz) (1.4.4)\n",
      "Requirement already satisfied: cycler>=0.10 in c:\\python310\\lib\\site-packages (from matplotlib>=3.1.3->sweetviz) (0.11.0)\n",
      "Requirement already satisfied: packaging>=20.0 in c:\\python310\\lib\\site-packages (from matplotlib>=3.1.3->sweetviz) (21.3)\n",
      "Requirement already satisfied: pytz>=2020.1 in c:\\python310\\lib\\site-packages (from pandas!=1.0.0,!=1.0.1,!=1.0.2,>=0.25.3->sweetviz) (2022.4)\n",
      "Requirement already satisfied: colorama in c:\\python310\\lib\\site-packages (from tqdm>=4.43.0->sweetviz) (0.4.4)\n",
      "Requirement already satisfied: six>=1.5 in c:\\python310\\lib\\site-packages (from python-dateutil>=2.7->matplotlib>=3.1.3->sweetviz) (1.16.0)\n",
      "Note: you may need to restart the kernel to use updated packages.\n"
     ]
    },
    {
     "name": "stderr",
     "output_type": "stream",
     "text": [
      "\n",
      "[notice] A new release of pip is available: 23.0 -> 23.3.2\n",
      "[notice] To update, run: C:\\Python310\\python.exe -m pip install --upgrade pip\n"
     ]
    },
    {
     "name": "stdout",
     "output_type": "stream",
     "text": [
      "Requirement already satisfied: shap in c:\\python310\\lib\\site-packages (0.44.0)\n",
      "Requirement already satisfied: pandas in c:\\python310\\lib\\site-packages (from shap) (1.5.2)\n",
      "Requirement already satisfied: scipy in c:\\python310\\lib\\site-packages (from shap) (1.10.0)\n",
      "Requirement already satisfied: cloudpickle in c:\\python310\\lib\\site-packages (from shap) (3.0.0)\n",
      "Requirement already satisfied: numpy in c:\\python310\\lib\\site-packages (from shap) (1.24.2)\n",
      "Requirement already satisfied: scikit-learn in c:\\python310\\lib\\site-packages (from shap) (1.2.0)\n",
      "Requirement already satisfied: numba in c:\\python310\\lib\\site-packages (from shap) (0.58.1)\n",
      "Requirement already satisfied: tqdm>=4.27.0 in c:\\python310\\lib\\site-packages (from shap) (4.63.1)\n",
      "Requirement already satisfied: slicer==0.0.7 in c:\\python310\\lib\\site-packages (from shap) (0.0.7)\n",
      "Requirement already satisfied: packaging>20.9 in c:\\python310\\lib\\site-packages (from shap) (21.3)\n",
      "Requirement already satisfied: pyparsing!=3.0.5,>=2.0.2 in c:\\python310\\lib\\site-packages (from packaging>20.9->shap) (3.0.9)\n",
      "Requirement already satisfied: colorama in c:\\python310\\lib\\site-packages (from tqdm>=4.27.0->shap) (0.4.4)\n",
      "Requirement already satisfied: llvmlite<0.42,>=0.41.0dev0 in c:\\python310\\lib\\site-packages (from numba->shap) (0.41.1)\n",
      "Requirement already satisfied: pytz>=2020.1 in c:\\python310\\lib\\site-packages (from pandas->shap) (2022.4)\n",
      "Requirement already satisfied: python-dateutil>=2.8.1 in c:\\python310\\lib\\site-packages (from pandas->shap) (2.8.2)\n",
      "Requirement already satisfied: threadpoolctl>=2.0.0 in c:\\python310\\lib\\site-packages (from scikit-learn->shap) (3.1.0)\n",
      "Requirement already satisfied: joblib>=1.1.1 in c:\\python310\\lib\\site-packages (from scikit-learn->shap) (1.2.0)\n",
      "Requirement already satisfied: six>=1.5 in c:\\python310\\lib\\site-packages (from python-dateutil>=2.8.1->pandas->shap) (1.16.0)\n",
      "Note: you may need to restart the kernel to use updated packages.\n"
     ]
    },
    {
     "name": "stderr",
     "output_type": "stream",
     "text": [
      "\n",
      "[notice] A new release of pip is available: 23.0 -> 23.3.2\n",
      "[notice] To update, run: C:\\Python310\\python.exe -m pip install --upgrade pip\n"
     ]
    },
    {
     "name": "stdout",
     "output_type": "stream",
     "text": [
      "Collecting pandas-profilingNote: you may need to restart the kernel to use updated packages.\n"
     ]
    },
    {
     "name": "stderr",
     "output_type": "stream",
     "text": [
      "\n",
      "[notice] A new release of pip is available: 23.0 -> 23.3.2\n",
      "[notice] To update, run: C:\\Python310\\python.exe -m pip install --upgrade pip\n"
     ]
    },
    {
     "name": "stdout",
     "output_type": "stream",
     "text": [
      "\n",
      "  Downloading pandas_profiling-3.6.6-py2.py3-none-any.whl (324 kB)\n",
      "     -------------------------------------- 324.4/324.4 kB 5.0 MB/s eta 0:00:00\n",
      "Collecting ydata-profiling\n",
      "  Using cached ydata_profiling-4.6.3-py2.py3-none-any.whl (357 kB)\n",
      "Collecting phik<0.13,>=0.11.1\n",
      "  Using cached phik-0.12.3-cp310-cp310-win_amd64.whl (663 kB)\n",
      "Collecting imagehash==4.3.1\n",
      "  Using cached ImageHash-4.3.1-py2.py3-none-any.whl (296 kB)\n",
      "Requirement already satisfied: tqdm<5,>=4.48.2 in c:\\python310\\lib\\site-packages (from ydata-profiling->pandas-profiling) (4.63.1)\n",
      "Requirement already satisfied: htmlmin==0.1.12 in c:\\python310\\lib\\site-packages (from ydata-profiling->pandas-profiling) (0.1.12)\n",
      "Collecting visions[type_image_path]==0.7.5\n",
      "  Using cached visions-0.7.5-py3-none-any.whl (102 kB)\n",
      "Collecting typeguard<5,>=4.1.2\n",
      "  Using cached typeguard-4.1.5-py3-none-any.whl (34 kB)\n",
      "Collecting pydantic>=2\n",
      "  Using cached pydantic-2.5.3-py3-none-any.whl (381 kB)\n",
      "Requirement already satisfied: jinja2<3.2,>=2.11.1 in c:\\python310\\lib\\site-packages (from ydata-profiling->pandas-profiling) (3.1.1)\n",
      "Requirement already satisfied: PyYAML<6.1,>=5.0.0 in c:\\python310\\lib\\site-packages (from ydata-profiling->pandas-profiling) (6.0.1)\n",
      "Requirement already satisfied: pandas!=1.4.0,<3,>1.1 in c:\\python310\\lib\\site-packages (from ydata-profiling->pandas-profiling) (1.5.2)\n",
      "Collecting dacite>=1.8\n",
      "  Using cached dacite-1.8.1-py3-none-any.whl (14 kB)\n",
      "Requirement already satisfied: multimethod<2,>=1.4 in c:\\python310\\lib\\site-packages (from ydata-profiling->pandas-profiling) (1.10)\n",
      "Requirement already satisfied: matplotlib<3.9,>=3.2 in c:\\python310\\lib\\site-packages (from ydata-profiling->pandas-profiling) (3.6.2)\n",
      "Collecting statsmodels<1,>=0.13.2\n",
      "  Using cached statsmodels-0.14.1-cp310-cp310-win_amd64.whl (9.8 MB)\n",
      "Requirement already satisfied: seaborn<0.13,>=0.10.1 in c:\\python310\\lib\\site-packages (from ydata-profiling->pandas-profiling) (0.11.2)\n",
      "Requirement already satisfied: requests<3,>=2.24.0 in c:\\python310\\lib\\site-packages (from ydata-profiling->pandas-profiling) (2.27.1)\n",
      "Requirement already satisfied: numba<0.59.0,>=0.56.0 in c:\\python310\\lib\\site-packages (from ydata-profiling->pandas-profiling) (0.58.1)\n",
      "Requirement already satisfied: scipy<1.12,>=1.4.1 in c:\\python310\\lib\\site-packages (from ydata-profiling->pandas-profiling) (1.10.0)\n",
      "Requirement already satisfied: numpy<1.26,>=1.16.0 in c:\\python310\\lib\\site-packages (from ydata-profiling->pandas-profiling) (1.24.2)\n",
      "Collecting wordcloud>=1.9.1\n",
      "  Using cached wordcloud-1.9.3-cp310-cp310-win_amd64.whl (299 kB)\n",
      "Requirement already satisfied: pillow in c:\\python310\\lib\\site-packages (from imagehash==4.3.1->ydata-profiling->pandas-profiling) (9.2.0)\n",
      "Requirement already satisfied: PyWavelets in c:\\python310\\lib\\site-packages (from imagehash==4.3.1->ydata-profiling->pandas-profiling) (1.5.0)\n",
      "Requirement already satisfied: tangled-up-in-unicode>=0.0.4 in c:\\python310\\lib\\site-packages (from visions[type_image_path]==0.7.5->ydata-profiling->pandas-profiling) (0.2.0)\n",
      "Requirement already satisfied: networkx>=2.4 in c:\\python310\\lib\\site-packages (from visions[type_image_path]==0.7.5->ydata-profiling->pandas-profiling) (3.2.1)\n",
      "Requirement already satisfied: attrs>=19.3.0 in c:\\python310\\lib\\site-packages (from visions[type_image_path]==0.7.5->ydata-profiling->pandas-profiling) (22.1.0)\n",
      "Requirement already satisfied: MarkupSafe>=2.0 in c:\\python310\\lib\\site-packages (from jinja2<3.2,>=2.11.1->ydata-profiling->pandas-profiling) (2.1.1)\n",
      "Requirement already satisfied: cycler>=0.10 in c:\\python310\\lib\\site-packages (from matplotlib<3.9,>=3.2->ydata-profiling->pandas-profiling) (0.11.0)\n",
      "Requirement already satisfied: pyparsing>=2.2.1 in c:\\python310\\lib\\site-packages (from matplotlib<3.9,>=3.2->ydata-profiling->pandas-profiling) (3.0.9)\n",
      "Requirement already satisfied: fonttools>=4.22.0 in c:\\python310\\lib\\site-packages (from matplotlib<3.9,>=3.2->ydata-profiling->pandas-profiling) (4.31.2)\n",
      "Requirement already satisfied: packaging>=20.0 in c:\\python310\\lib\\site-packages (from matplotlib<3.9,>=3.2->ydata-profiling->pandas-profiling) (21.3)\n",
      "Requirement already satisfied: python-dateutil>=2.7 in c:\\python310\\lib\\site-packages (from matplotlib<3.9,>=3.2->ydata-profiling->pandas-profiling) (2.8.2)\n",
      "Requirement already satisfied: kiwisolver>=1.0.1 in c:\\python310\\lib\\site-packages (from matplotlib<3.9,>=3.2->ydata-profiling->pandas-profiling) (1.4.4)\n",
      "Requirement already satisfied: contourpy>=1.0.1 in c:\\python310\\lib\\site-packages (from matplotlib<3.9,>=3.2->ydata-profiling->pandas-profiling) (1.0.6)\n",
      "Requirement already satisfied: llvmlite<0.42,>=0.41.0dev0 in c:\\python310\\lib\\site-packages (from numba<0.59.0,>=0.56.0->ydata-profiling->pandas-profiling) (0.41.1)\n",
      "Requirement already satisfied: pytz>=2020.1 in c:\\python310\\lib\\site-packages (from pandas!=1.4.0,<3,>1.1->ydata-profiling->pandas-profiling) (2022.4)\n",
      "Requirement already satisfied: joblib>=0.14.1 in c:\\python310\\lib\\site-packages (from phik<0.13,>=0.11.1->ydata-profiling->pandas-profiling) (1.2.0)\n",
      "Collecting pydantic-core==2.14.6\n",
      "  Using cached pydantic_core-2.14.6-cp310-none-win_amd64.whl (1.9 MB)\n",
      "Requirement already satisfied: typing-extensions>=4.6.1 in c:\\python310\\lib\\site-packages (from pydantic>=2->ydata-profiling->pandas-profiling) (4.9.0)\n",
      "Collecting annotated-types>=0.4.0\n",
      "  Using cached annotated_types-0.6.0-py3-none-any.whl (12 kB)\n",
      "Requirement already satisfied: charset-normalizer~=2.0.0 in c:\\python310\\lib\\site-packages (from requests<3,>=2.24.0->ydata-profiling->pandas-profiling) (2.0.12)\n",
      "Requirement already satisfied: idna<4,>=2.5 in c:\\python310\\lib\\site-packages (from requests<3,>=2.24.0->ydata-profiling->pandas-profiling) (3.3)\n",
      "Requirement already satisfied: certifi>=2017.4.17 in c:\\python310\\lib\\site-packages (from requests<3,>=2.24.0->ydata-profiling->pandas-profiling) (2021.10.8)\n",
      "Requirement already satisfied: urllib3<1.27,>=1.21.1 in c:\\python310\\lib\\site-packages (from requests<3,>=2.24.0->ydata-profiling->pandas-profiling) (1.26.9)\n",
      "Requirement already satisfied: patsy>=0.5.4 in c:\\python310\\lib\\site-packages (from statsmodels<1,>=0.13.2->ydata-profiling->pandas-profiling) (0.5.5)\n",
      "Requirement already satisfied: colorama in c:\\python310\\lib\\site-packages (from tqdm<5,>=4.48.2->ydata-profiling->pandas-profiling) (0.4.4)\n",
      "Requirement already satisfied: six in c:\\python310\\lib\\site-packages (from patsy>=0.5.4->statsmodels<1,>=0.13.2->ydata-profiling->pandas-profiling) (1.16.0)\n",
      "Installing collected packages: typeguard, pydantic-core, dacite, annotated-types, pydantic, imagehash, wordcloud, visions, statsmodels, phik, ydata-profiling, pandas-profiling\n",
      "Successfully installed annotated-types-0.6.0 dacite-1.8.1 imagehash-4.3.1 pandas-profiling-3.6.6 phik-0.12.3 pydantic-2.5.3 pydantic-core-2.14.6 statsmodels-0.14.1 typeguard-4.1.5 visions-0.7.5 wordcloud-1.9.3 ydata-profiling-4.6.3\n"
     ]
    }
   ],
   "source": [
    "%pip install sweetviz\n",
    "#%pip install ydata_profiling\n",
    "%pip install shap\n",
    "#%pip install seaborn\n",
    "%pip install pandas-profiling"
   ]
  },
  {
   "cell_type": "code",
   "execution_count": 4,
   "metadata": {},
   "outputs": [],
   "source": [
    "import pandas as pd\n",
    "import numpy as np\n",
    "\n",
    "import matplotlib.pyplot as plt\n",
    "import seaborn as sns\n",
    "\n",
    "# Note: The following do not work with Python 3.12\n",
    "#import shap\n",
    "#from ydata_profiling import ProfileReport\n",
    "import sweetviz as sv"
   ]
  },
  {
   "cell_type": "code",
   "execution_count": 5,
   "metadata": {},
   "outputs": [],
   "source": [
    "seed = 2024\n",
    "\n",
    "# pandas, statsmodels, matplotlib and y_data_profiling rely on numpy's random generator, and thus, we need to set the seed in numpy\n",
    "np.random.seed(seed)"
   ]
  },
  {
   "cell_type": "code",
   "execution_count": 8,
   "metadata": {},
   "outputs": [
    {
     "name": "stderr",
     "output_type": "stream",
     "text": [
      "C:\\Users\\User\\AppData\\Local\\Temp\\ipykernel_10504\\2790004777.py:5: DtypeWarning: Columns (3) have mixed types. Specify dtype option on import or set low_memory=False.\n",
      "  reviews = pd.read_csv('reviews.csv', sep=\",\")\n"
     ]
    }
   ],
   "source": [
    "# load the data\n",
    "diet = pd.read_csv('diet.csv', sep=\",\")\n",
    "recipes = pd.read_csv('recipes.csv', sep=\",\")\n",
    "requests = pd.read_csv('requests.csv', sep=\",\")\n",
    "reviews = pd.read_csv('reviews.csv', sep=\",\")"
   ]
  },
  {
   "cell_type": "markdown",
   "metadata": {},
   "source": [
    "## DIET\n",
    "1 *Diet* is missing --> ignore instances with missing values"
   ]
  },
  {
   "cell_type": "code",
   "execution_count": 9,
   "metadata": {},
   "outputs": [
    {
     "name": "stdout",
     "output_type": "stream",
     "text": [
      "    AuthorId        Diet  Age\n",
      "0  10000120E  Vegetarian   46\n",
      "1   1000014D       Vegan   18\n",
      "2   1000015A  Vegetarian   58\n",
      "3   1000016E  Vegetarian   32\n",
      "4   1000027E       Vegan   61\n",
      "5   1000029E       Vegan   39\n",
      "6   1000036C  Vegetarian   50\n",
      "7   1000048E  Vegetarian   44\n",
      "8   1000079B  Vegetarian   34\n",
      "9   1000107C    Omnivore   62\n",
      "<class 'pandas.core.frame.DataFrame'>\n",
      "RangeIndex: 271907 entries, 0 to 271906\n",
      "Data columns (total 3 columns):\n",
      " #   Column    Non-Null Count   Dtype \n",
      "---  ------    --------------   ----- \n",
      " 0   AuthorId  271907 non-null  object\n",
      " 1   Diet      271906 non-null  object\n",
      " 2   Age       271907 non-null  int64 \n",
      "dtypes: int64(1), object(2)\n",
      "memory usage: 6.2+ MB\n",
      "None\n"
     ]
    }
   ],
   "source": [
    "print(diet.head(10))\n",
    "print(diet.info())"
   ]
  },
  {
   "cell_type": "code",
   "execution_count": 10,
   "metadata": {},
   "outputs": [
    {
     "name": "stdout",
     "output_type": "stream",
     "text": [
      "AuthorId    0\n",
      "Diet        1\n",
      "Age         0\n",
      "dtype: int64\n",
      "AuthorId    271907\n",
      "Diet             3\n",
      "Age             62\n",
      "dtype: int64\n"
     ]
    }
   ],
   "source": [
    "print(diet.isnull().sum())\n",
    "unique_counts = diet.nunique()\n",
    "print(unique_counts)"
   ]
  },
  {
   "cell_type": "code",
   "execution_count": 13,
   "metadata": {},
   "outputs": [
    {
     "name": "stdout",
     "output_type": "stream",
     "text": [
      "                 Age\n",
      "count  271907.000000\n",
      "mean       48.503727\n",
      "std        17.898130\n",
      "min        18.000000\n",
      "25%        33.000000\n",
      "50%        48.000000\n",
      "75%        64.000000\n",
      "max        79.000000\n"
     ]
    },
    {
     "name": "stderr",
     "output_type": "stream",
     "text": [
      "C:\\Python310\\lib\\site-packages\\seaborn\\_decorators.py:36: FutureWarning: Pass the following variable as a keyword arg: x. From version 0.12, the only valid positional argument will be `data`, and passing other arguments without an explicit keyword will result in an error or misinterpretation.\n",
      "  warnings.warn(\n"
     ]
    },
    {
     "data": {
      "image/png": "[encoded data removed]",
      "text/plain": [
       "<Figure size 640x480 with 1 Axes>"
      ]
     },
     "metadata": {},
     "output_type": "display_data"
    }
   ],
   "source": [
    "# have a look at common statistics of the dataset\n",
    "print(diet.describe())\n",
    "sns.boxplot(diet['Age']);"
   ]
  },
  {
   "cell_type": "code",
   "execution_count": 21,
   "metadata": {},
   "outputs": [
    {
     "data": {
      "image/png": "[encoded data removed]",
      "text/plain": [
       "<Figure size 640x480 with 1 Axes>"
      ]
     },
     "metadata": {},
     "output_type": "display_data"
    }
   ],
   "source": [
    "sns.histplot(data=diet, x='Diet', bins=20)\n",
    "\n",
    "plt.title('Distribution of Diet')\n",
    "plt.xlabel('Diet Types')\n",
    "plt.xticks(rotation=45)\n",
    "plt.ylabel('Frequency')\n",
    "plt.show()"
   ]
  },
  {
   "cell_type": "markdown",
   "metadata": {},
   "source": [
    "## RECIPES\n",
    "*Recipe Servings* and *Recipe Yields* a lot of missing values --> ??\n",
    "Servings means how many servings you get out of the recipe. Yields determine the absolute number of items you get out of the recipe. For instance, a recipe yields 1/2 liter of soup, which is equivalent to 2 servings."
   ]
  },
  {
   "cell_type": "code",
   "execution_count": 29,
   "metadata": {},
   "outputs": [
    {
     "name": "stdout",
     "output_type": "stream",
     "text": [
      "   RecipeId                                      Name  CookTime  PrepTime  \\\n",
      "0     73440              Bow Ties With Broccoli Pesto         0      1800   \n",
      "1    365718                       Cashew-chutney Rice      3600       600   \n",
      "2    141757  Copycat Taco Bell Nacho Fries BellGrande      3600      2700   \n",
      "3    280351  Slow Cooker Jalapeno Cheddar Cheese Soup     18000      1800   \n",
      "4    180505           Cool & Crisp Citrus Chiffon Pie      3600      1800   \n",
      "5    350271                  Easy Tomato Onion Relish      1200       300   \n",
      "6     21518                    Pumpkin Cranberry Bars      2700      1200   \n",
      "7    137143                          Picadillo Dinner      1200      1500   \n",
      "8    211563                   KateL's Extreme Pavlova      4200       600   \n",
      "9     29280                        Death by Chocolate         0       300   \n",
      "\n",
      "  RecipeCategory                         RecipeIngredientQuantities  \\\n",
      "0          Other  c(\"\\\"6\\\"\", \"\\\"2\\\"\", \"\\\"1 1/2\\\"\", \"\\\"1/4\\\"\", \"\\...   \n",
      "1          Other  c(\"\\\"1\\\"\", \"\\\"3/4\\\"\", \"\\\"6\\\"\", \"\\\"5\\\"\", \"\\\"2\\\"...   \n",
      "2          Other  c(\"\\\"3\\\"\", \"\\\"1/2\\\"\", \"\\\"1\\\"\", \"\\\"1\\\"\", \"\\\"3\\\"...   \n",
      "3          Other  c(\"\\\"2\\\"\", \"\\\"1\\\"\", \"\\\"2\\\"\", \"\\\"2\\\"\", \"\\\"1\\\"\",...   \n",
      "4          Other  c(\"\\\"1\\\"\", \"\\\"1/4\\\"\", \"\\\"1/2\\\"\", \"\\\"1/2\\\"\", \"\\...   \n",
      "5          Other  c(\"\\\"1\\\"\", \"\\\"1\\\"\", \"\\\"1\\\"\", \"\\\"1 -2\\\"\", \"\\\"2\\\"\")   \n",
      "6          Other  c(\"\\\"1\\\"\", \"\\\"2\\\"\", \"\\\"1/2\\\"\", \"\\\"3\\\"\", \"\\\"1\\\"...   \n",
      "7          Other  c(\"\\\"3\\\"\", \"\\\"2\\\"\", \"\\\"2\\\"\", \"\\\"2\\\"\", \"\\\"1\\\"\",...   \n",
      "8          Other  c(\"\\\"3\\\"\", \"\\\"6\\\"\", \"\\\"1/2\\\"\", \"\\\"1/2\\\"\", \"\\\"1...   \n",
      "9      Beverages          c(\"\\\"1\\\"\", \"\\\"1\\\"\", \"\\\"1 1/2\\\"\", \"\\\"3\\\"\")   \n",
      "\n",
      "                               RecipeIngredientParts  Calories  FatContent  \\\n",
      "0  c(\"\\\"hazelnuts\\\"\", \"\\\"broccoli florets\\\"\", \"\\\"...     241.3        10.1   \n",
      "1  c(\"\\\"celery\\\"\", \"\\\"onion\\\"\", \"\\\"butter\\\"\", \"\\\"...     370.8        17.5   \n",
      "2  c(\"\\\"Copycat Taco Bell Seasoned Beef\\\"\", \"\\\"ye...     377.6        20.9   \n",
      "3  c(\"\\\"unsalted butter\\\"\", \"\\\"yellow onion\\\"\", \"...     282.8        16.5   \n",
      "4  c(\"\\\"unflavored gelatin\\\"\", \"\\\"water\\\"\", \"\\\"su...     257.5         8.6   \n",
      "5  c(\"\\\"olive oil\\\"\", \"\\\"red onion\\\"\", \"\\\"diced t...      76.1         3.6   \n",
      "6  c(\"\\\"pecans\\\"\", \"\\\"walnuts\\\"\", \"\\\"butter\\\"\", \"...     343.8        18.0   \n",
      "7  c(\"\\\"lean ground beef\\\"\", \"\\\"onions\\\"\", \"\\\"Ita...     526.0        27.2   \n",
      "8  c(\"\\\"confectioners' sugar\\\"\", \"\\\"icing sugar\\\"...     326.0        19.2   \n",
      "9  c(\"\\\"vodka\\\"\", \"\\\"dark Creme de Cacao\\\"\", \"\\\"A...      69.4         0.0   \n",
      "\n",
      "   SaturatedFatContent  CholesterolContent  SodiumContent  \\\n",
      "0                  1.2                 0.0           13.1   \n",
      "1                  7.2                22.9          553.3   \n",
      "2                 10.5                45.7         1501.8   \n",
      "3                 10.3                50.5          630.2   \n",
      "4                  2.4               110.7          160.9   \n",
      "5                  0.5                 0.0            8.9   \n",
      "6                  5.4                51.2          243.0   \n",
      "7                  9.8               147.4         1288.0   \n",
      "8                 11.1                64.7           46.3   \n",
      "9                  0.0                 0.0            0.3   \n",
      "\n",
      "   CarbohydrateContent  FiberContent  SugarContent  ProteinContent  \\\n",
      "0                 31.8           2.3           1.4             6.7   \n",
      "1                 44.3           1.6           2.2             9.4   \n",
      "2                 36.6           3.8           6.1            12.9   \n",
      "3                 22.8           2.3           2.7            11.7   \n",
      "4                 39.8           0.4          30.2             6.3   \n",
      "5                 10.5           1.6           8.1             1.2   \n",
      "6                 42.8           1.7          31.4             5.0   \n",
      "7                 21.9           6.1          10.8            49.2   \n",
      "8                 37.3           0.9          34.3             3.1   \n",
      "9                  0.0           0.0           0.0             0.0   \n",
      "\n",
      "   RecipeServings RecipeYield  \n",
      "0             9.0         NaN  \n",
      "1             8.0         NaN  \n",
      "2             8.0         NaN  \n",
      "3             6.0         NaN  \n",
      "4             6.0         NaN  \n",
      "5             NaN         NaN  \n",
      "6            20.0         NaN  \n",
      "7             6.0         NaN  \n",
      "8             6.0         NaN  \n",
      "9             1.0         NaN  \n",
      "<class 'pandas.core.frame.DataFrame'>\n",
      "RangeIndex: 75604 entries, 0 to 75603\n",
      "Data columns (total 18 columns):\n",
      " #   Column                      Non-Null Count  Dtype  \n",
      "---  ------                      --------------  -----  \n",
      " 0   RecipeId                    75604 non-null  int64  \n",
      " 1   Name                        75604 non-null  object \n",
      " 2   CookTime                    75604 non-null  int64  \n",
      " 3   PrepTime                    75604 non-null  int64  \n",
      " 4   RecipeCategory              75604 non-null  object \n",
      " 5   RecipeIngredientQuantities  75604 non-null  object \n",
      " 6   RecipeIngredientParts       75604 non-null  object \n",
      " 7   Calories                    75604 non-null  float64\n",
      " 8   FatContent                  75604 non-null  float64\n",
      " 9   SaturatedFatContent         75604 non-null  float64\n",
      " 10  CholesterolContent          75604 non-null  float64\n",
      " 11  SodiumContent               75604 non-null  float64\n",
      " 12  CarbohydrateContent         75604 non-null  float64\n",
      " 13  FiberContent                75604 non-null  float64\n",
      " 14  SugarContent                75604 non-null  float64\n",
      " 15  ProteinContent              75604 non-null  float64\n",
      " 16  RecipeServings              48891 non-null  float64\n",
      " 17  RecipeYield                 25309 non-null  object \n",
      "dtypes: float64(10), int64(3), object(5)\n",
      "memory usage: 8.9+ MB\n",
      "None\n"
     ]
    }
   ],
   "source": [
    "print(recipes.head(10))\n",
    "print(recipes.info())\n"
   ]
  },
  {
   "cell_type": "code",
   "execution_count": 30,
   "metadata": {},
   "outputs": [
    {
     "name": "stdout",
     "output_type": "stream",
     "text": [
      "RecipeId                          0\n",
      "Name                              0\n",
      "CookTime                          0\n",
      "PrepTime                          0\n",
      "RecipeCategory                    0\n",
      "RecipeIngredientQuantities        0\n",
      "RecipeIngredientParts             0\n",
      "Calories                          0\n",
      "FatContent                        0\n",
      "SaturatedFatContent               0\n",
      "CholesterolContent                0\n",
      "SodiumContent                     0\n",
      "CarbohydrateContent               0\n",
      "FiberContent                      0\n",
      "SugarContent                      0\n",
      "ProteinContent                    0\n",
      "RecipeServings                26713\n",
      "RecipeYield                   50295\n",
      "dtype: int64\n",
      "RecipeId                      75604\n",
      "Name                          70534\n",
      "CookTime                        246\n",
      "PrepTime                        166\n",
      "RecipeCategory                    7\n",
      "RecipeIngredientQuantities    68882\n",
      "RecipeIngredientParts         73920\n",
      "Calories                      14329\n",
      "FatContent                     2446\n",
      "SaturatedFatContent            1375\n",
      "CholesterolContent             5157\n",
      "SodiumContent                 19743\n",
      "CarbohydrateContent            3876\n",
      "FiberContent                    618\n",
      "SugarContent                   2849\n",
      "ProteinContent                 1458\n",
      "RecipeServings                   94\n",
      "RecipeYield                    7919\n",
      "dtype: int64\n"
     ]
    }
   ],
   "source": [
    "print(recipes.isnull().sum())\n",
    "unique_counts = recipes.nunique()\n",
    "print(unique_counts)"
   ]
  },
  {
   "cell_type": "code",
   "execution_count": 31,
   "metadata": {},
   "outputs": [
    {
     "data": {
      "image/png": "[encoded data removed]",
      "text/plain": [
       "<Figure size 640x480 with 1 Axes>"
      ]
     },
     "metadata": {},
     "output_type": "display_data"
    }
   ],
   "source": [
    "category_counts = recipes['RecipeCategory'].value_counts()\n",
    "category_counts.plot(kind='bar')\n",
    "plt.xlabel('Recipe Category')\n",
    "plt.ylabel('Number of Recipes')\n",
    "plt.title('Number of Recipes for Each Category')\n",
    "plt.show()"
   ]
  },
  {
   "cell_type": "markdown",
   "metadata": {},
   "source": [
    "## Reviews\n",
    "*Rating* and *Like* a lot of missing values --> For Rating column we can ignore attribute with missing values because except for NAs, there is just 2 as a rating."
   ]
  },
  {
   "cell_type": "code",
   "execution_count": 32,
   "metadata": {},
   "outputs": [
    {
     "name": "stdout",
     "output_type": "stream",
     "text": [
      "      AuthorId  RecipeId  Rating Like  TestSetId\n",
      "0     2492191A     33671     2.0  NaN        1.0\n",
      "1  2002019979A     92647     2.0  NaN        2.0\n",
      "2      408594E    161770     NaN  NaN        3.0\n",
      "3  2001625557E    108231     2.0  NaN        4.0\n",
      "4  2001427116E     71109     NaN  NaN        5.0\n",
      "5  2001382952C    148927     NaN  NaN        6.0\n",
      "6      588901B     87380     2.0  NaN        7.0\n",
      "7     1038235B      9475     2.0  NaN        8.0\n",
      "8  2001651474C    106171     2.0  NaN        9.0\n",
      "9  1803780486A    223201     NaN  NaN       10.0\n",
      "<class 'pandas.core.frame.DataFrame'>\n",
      "RangeIndex: 140195 entries, 0 to 140194\n",
      "Data columns (total 5 columns):\n",
      " #   Column     Non-Null Count   Dtype  \n",
      "---  ------     --------------   -----  \n",
      " 0   AuthorId   140195 non-null  object \n",
      " 1   RecipeId   140195 non-null  int64  \n",
      " 2   Rating     77108 non-null   float64\n",
      " 3   Like       97381 non-null   object \n",
      " 4   TestSetId  42814 non-null   float64\n",
      "dtypes: float64(2), int64(1), object(2)\n",
      "memory usage: 4.3+ MB\n",
      "None\n"
     ]
    }
   ],
   "source": [
    "print(reviews.head(10))\n",
    "print(reviews.info())"
   ]
  },
  {
   "cell_type": "code",
   "execution_count": 43,
   "metadata": {},
   "outputs": [
    {
     "name": "stdout",
     "output_type": "stream",
     "text": [
      "AuthorId         0\n",
      "RecipeId         0\n",
      "Rating       63087\n",
      "Like         42814\n",
      "TestSetId    97381\n",
      "dtype: int64\n",
      "AuthorId     49348\n",
      "RecipeId     75604\n",
      "Rating           1\n",
      "Like             2\n",
      "TestSetId    42814\n",
      "dtype: int64\n"
     ]
    }
   ],
   "source": [
    "print(reviews.isnull().sum())\n",
    "unique_counts = reviews.nunique()\n",
    "print(unique_counts)"
   ]
  },
  {
   "cell_type": "code",
   "execution_count": 44,
   "metadata": {},
   "outputs": [
    {
     "data": {
      "image/png": "[encoded data removed]",
      "text/plain": [
       "<Figure size 640x480 with 1 Axes>"
      ]
     },
     "metadata": {},
     "output_type": "display_data"
    }
   ],
   "source": [
    "sns.histplot(reviews['Rating'], bins=5, kde=False, color='blue')\n",
    "plt.xlabel('Rating')\n",
    "plt.ylabel('Frequency')\n",
    "plt.title('Distribution of Ratings')\n",
    "plt.show()"
   ]
  },
  {
   "cell_type": "code",
   "execution_count": 49,
   "metadata": {},
   "outputs": [
    {
     "data": {
      "image/png": "[encoded data removed]",
      "text/plain": [
       "<Figure size 640x480 with 1 Axes>"
      ]
     },
     "metadata": {},
     "output_type": "display_data"
    }
   ],
   "source": [
    "sns.countplot(x='Like', data=reviews, color='blue')\n",
    "plt.xlabel('Like')\n",
    "plt.ylabel('Count')\n",
    "plt.title('Distribution of Like')\n",
    "plt.show()"
   ]
  },
  {
   "cell_type": "markdown",
   "metadata": {},
   "source": [
    "## Requests\n",
    "Combine *AuthorId* and *RecipeId* to get a key\n",
    "\n",
    "Make HighCalories, HighProtein, LowFat, LowSugar and HighFiber same format."
   ]
  },
  {
   "cell_type": "code",
   "execution_count": 14,
   "metadata": {},
   "outputs": [
    {
     "name": "stdout",
     "output_type": "stream",
     "text": [
      "      AuthorId  RecipeId          Time  HighCalories  HighProtein  LowFat  \\\n",
      "0  2001012259B     73440   1799.950949           0.0  Indifferent       0   \n",
      "1      437641B    365718   4201.820980           0.0          Yes       0   \n",
      "2  1803340263D    141757   6299.861496           0.0  Indifferent       1   \n",
      "3      854048B    280351  19801.365796           0.0          Yes       1   \n",
      "4     2277685E    180505   5400.093457           0.0  Indifferent       0   \n",
      "5  2002463647E    350271   1500.690672           0.0  Indifferent       0   \n",
      "6      181611B     21518   3901.461811           1.0  Indifferent       0   \n",
      "7       63028B    137143   2699.849907           0.0  Indifferent       0   \n",
      "8       84090D    211563   4798.990136           1.0          Yes       1   \n",
      "9      935221A     29280    299.910325           0.0  Indifferent       0   \n",
      "\n",
      "      LowSugar  HighFiber  \n",
      "0            0          0  \n",
      "1  Indifferent          1  \n",
      "2  Indifferent          0  \n",
      "3            0          1  \n",
      "4            0          0  \n",
      "5            0          0  \n",
      "6  Indifferent          1  \n",
      "7  Indifferent          0  \n",
      "8            0          1  \n",
      "9            0          1  \n",
      "<class 'pandas.core.frame.DataFrame'>\n",
      "RangeIndex: 140195 entries, 0 to 140194\n",
      "Data columns (total 8 columns):\n",
      " #   Column        Non-Null Count   Dtype  \n",
      "---  ------        --------------   -----  \n",
      " 0   AuthorId      140195 non-null  object \n",
      " 1   RecipeId      140195 non-null  int64  \n",
      " 2   Time          140195 non-null  float64\n",
      " 3   HighCalories  140195 non-null  float64\n",
      " 4   HighProtein   140195 non-null  object \n",
      " 5   LowFat        140195 non-null  int64  \n",
      " 6   LowSugar      140195 non-null  object \n",
      " 7   HighFiber     140195 non-null  int64  \n",
      "dtypes: float64(2), int64(3), object(3)\n",
      "memory usage: 8.6+ MB\n",
      "None\n"
     ]
    }
   ],
   "source": [
    "print(requests.head(10))\n",
    "print(requests.info())"
   ]
  },
  {
   "cell_type": "code",
   "execution_count": 15,
   "metadata": {},
   "outputs": [
    {
     "name": "stdout",
     "output_type": "stream",
     "text": [
      "AuthorId        0\n",
      "RecipeId        0\n",
      "Time            0\n",
      "HighCalories    0\n",
      "HighProtein     0\n",
      "LowFat          0\n",
      "LowSugar        0\n",
      "HighFiber       0\n",
      "dtype: int64\n",
      "AuthorId         49348\n",
      "RecipeId         75604\n",
      "Time            140195\n",
      "HighCalories         2\n",
      "HighProtein          2\n",
      "LowFat               2\n",
      "LowSugar             2\n",
      "HighFiber            2\n",
      "dtype: int64\n"
     ]
    }
   ],
   "source": [
    "print(requests.isnull().sum())\n",
    "unique_counts = requests.nunique()\n",
    "print(unique_counts)"
   ]
  },
  {
   "cell_type": "code",
   "execution_count": null,
   "metadata": {},
   "outputs": [],
   "source": []
  },
  {
   "cell_type": "code",
   "execution_count": null,
   "metadata": {},
   "outputs": [],
   "source": []
  }
 ],
 "metadata": {
  "kernelspec": {
   "display_name": "Python 3 (ipykernel)",
   "language": "python",
   "name": "python3"
  },
  "language_info": {
   "codemirror_mode": {
    "name": "ipython",
    "version": 3
   },
   "file_extension": ".py",
   "mimetype": "text/x-python",
   "name": "python",
   "nbconvert_exporter": "python",
   "pygments_lexer": "ipython3",
   "version": "3.10.4"
  }
 },
 "nbformat": 4,
 "nbformat_minor": 4
}
